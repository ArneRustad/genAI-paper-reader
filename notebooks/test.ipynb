{
 "cells": [
  {
   "cell_type": "code",
   "execution_count": null,
   "metadata": {},
   "outputs": [],
   "source": [
    "import langchain\n",
    "import dotenv\n",
    "dotenv.load_dotenv()"
   ]
  },
  {
   "cell_type": "code",
   "execution_count": null,
   "metadata": {},
   "outputs": [],
   "source": [
    "%load_ext autoreload\n",
    "%autoreload 2\n",
    "\n",
    "import sys\n",
    "sys.path.append(\"..\") # Adds higher directory to python modules path.\n",
    "\n",
    "import os\n",
    "from paperreader.config import DIR_DATA\n",
    "from IPython.display import Markdown as md"
   ]
  },
  {
   "cell_type": "code",
   "execution_count": null,
   "metadata": {},
   "outputs": [],
   "source": [
    "import os\n",
    "# Replace this with your actual directory path\n",
    "\n",
    "# Looping through each file in the directory\n",
    "for filename in os.listdir(DIR_DATA):\n",
    "    if filename.endswith(\".txt\"):  # Assuming the files are text files\n",
    "        file_path = os.path.join(DIR_DATA, filename)\n",
    "        with open(file_path, 'r') as f:\n",
    "            content = f.read()\n",
    "            print(f\"Contents of {filename}:\\n{content}\\n\")\n",
    "    else:\n",
    "        # Handle non-text files or specific file formats if needed\n",
    "        print(f\"Skipping non-text file: {filename}\")"
   ]
  },
  {
   "cell_type": "code",
   "execution_count": null,
   "metadata": {},
   "outputs": [],
   "source": [
    "from langchain.document_loaders import PyMuPDFLoader"
   ]
  },
  {
   "cell_type": "code",
   "execution_count": null,
   "metadata": {},
   "outputs": [],
   "source": [
    "loader = PyMuPDFLoader(os.path.join(DIR_DATA, os.listdir(DIR_DATA)[0]))\n",
    "docs = loader.load()\n",
    "text = \"\\n\\n\".join([f\"## Page {i+1}\\n\"+ doc.page_content for i, doc in enumerate(docs)])\n",
    "# md(text)"
   ]
  },
  {
   "cell_type": "code",
   "execution_count": null,
   "metadata": {},
   "outputs": [],
   "source": [
    "from langchain.chat_models import ChatOpenAI\n",
    "from langchain.prompts.chat import (\n",
    "    ChatPromptTemplate,\n",
    "    HumanMessagePromptTemplate,\n",
    "    SystemMessagePromptTemplate,\n",
    ")\n",
    "from langchain.schema import HumanMessage, SystemMessage"
   ]
  },
  {
   "cell_type": "code",
   "execution_count": null,
   "metadata": {},
   "outputs": [],
   "source": [
    "from paperreader.llm import chat_model_gpt_4_turbo as llm"
   ]
  },
  {
   "cell_type": "code",
   "execution_count": null,
   "metadata": {},
   "outputs": [],
   "source": [
    "from langchain.prompts import PromptTemplate\n",
    "\n",
    "prompt_template = PromptTemplate.from_template(\n",
    "    'Please summarize this article.\\n\\nArticle:\"\"\"\"{article}\\n\\nSummary:\"\"\"'\n",
    ")\n",
    "\n",
    "loader = PyMuPDFLoader(os.path.join(DIR_DATA, os.listdir(DIR_DATA)[0]))\n",
    "docs = loader.load()\n",
    "article = \"\\n\\n\".join([f\"## Page {i+1}\\n\"+ doc.page_content for i, doc in enumerate(docs)])\n",
    "summary = llm.predict(prompt_template.format(article=article))\n",
    "md(summary)"
   ]
  }
 ],
 "metadata": {
  "kernelspec": {
   "display_name": "generativereporting-X3Dh1mzy-py3.11",
   "language": "python",
   "name": "python3"
  },
  "language_info": {
   "codemirror_mode": {
    "name": "ipython",
    "version": 3
   },
   "file_extension": ".py",
   "mimetype": "text/x-python",
   "name": "python",
   "nbconvert_exporter": "python",
   "pygments_lexer": "ipython3",
   "version": "3.11.6"
  }
 },
 "nbformat": 4,
 "nbformat_minor": 2
}
